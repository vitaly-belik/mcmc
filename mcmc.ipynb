{
 "cells": [
  {
   "cell_type": "code",
   "execution_count": 110,
   "metadata": {
    "ExecuteTime": {
     "end_time": "2023-11-17T07:50:54.758845Z",
     "start_time": "2023-11-17T07:50:54.735939Z"
    }
   },
   "outputs": [],
   "source": [
    "from random import *\n",
    "from math import *\n",
    "from statistics import mean\n",
    "import numpy as np\n",
    "\n",
    "def metro(niter = 10000):\n",
    "    \n",
    "#     niter = 10000 # Number of iterations.\n",
    "    step_size = 0.5\n",
    "    x = 0.0\n",
    "    naccept = 0.0 # counter for the number of acceptances.\n",
    "\n",
    "    seed(234452)\n",
    "\n",
    "    ii = np.zeros(niter, int)\n",
    "    xx = np.zeros(niter, float)\n",
    "\n",
    "    xx[0] = x\n",
    "\n",
    "    #  /*************/\n",
    "    #  /* Main loop */\n",
    "    #  /*************/\n",
    "    for i in range(1, niter):\n",
    "        backup_x = x\n",
    "        p_init = exp(-0.5*x*x)\n",
    "        dx = random()\n",
    "        dx = (dx - 0.5) * step_size * 2.0\n",
    "        x = x + dx\n",
    "        xx[i] = x\n",
    "        p_fin = exp(-0.5*x*x)\n",
    "    #     /*******************/ \n",
    "    #     /* Metropolis test */\n",
    "    #     /*******************/\n",
    "        metropolis = random()\n",
    "        if p_fin / p_init > metropolis:\n",
    "            \n",
    "    # /* accept */\n",
    "            naccept = naccept + 1\n",
    "        else:\n",
    "    # /* reject */\n",
    "            x = backup_x\n",
    "    #     /***************/\n",
    "    #     /* data output */\n",
    "    #     /***************/\n",
    "    #     print(naccept/i)\n",
    "    return xx"
   ]
  },
  {
   "cell_type": "code",
   "execution_count": 114,
   "metadata": {
    "ExecuteTime": {
     "end_time": "2023-11-17T07:51:20.211839Z",
     "start_time": "2023-11-17T07:51:20.190421Z"
    }
   },
   "outputs": [],
   "source": [
    "xx = metro(10000)"
   ]
  },
  {
   "cell_type": "code",
   "execution_count": 118,
   "metadata": {
    "ExecuteTime": {
     "end_time": "2023-11-17T07:51:51.538369Z",
     "start_time": "2023-11-17T07:51:51.421839Z"
    }
   },
   "outputs": [
    {
     "data": {
      "text/plain": [
       "[<matplotlib.lines.Line2D at 0x7fcc218e2278>]"
      ]
     },
     "execution_count": 118,
     "metadata": {},
     "output_type": "execute_result"
    },
    {
     "data": {
      "image/png": "[encoded data removed]",
      "text/plain": [
       "<Figure size 432x288 with 1 Axes>"
      ]
     },
     "metadata": {
      "needs_background": "light"
     },
     "output_type": "display_data"
    }
   ],
   "source": [
    "import matplotlib\n",
    "from matplotlib.pyplot import *\n",
    "%matplotlib inline\n",
    "import numpy as np\n",
    "\n",
    "plot(np.linspace(1, niter, niter), xx)\n",
    "\n"
   ]
  },
  {
   "cell_type": "code",
   "execution_count": 119,
   "metadata": {
    "ExecuteTime": {
     "end_time": "2023-11-17T07:51:53.486358Z",
     "start_time": "2023-11-17T07:51:53.280872Z"
    }
   },
   "outputs": [
    {
     "data": {
      "text/plain": [
       "(array([  2.,   1.,   1.,   3.,   6.,   3.,   0.,   4.,   3.,   8.,   5.,\n",
       "         10.,   7.,   8.,   8.,  14.,  11.,  10.,  21.,  26.,  17.,  22.,\n",
       "         31.,  35.,  44.,  42.,  47.,  59.,  77.,  86.,  86.,  94.,  99.,\n",
       "        120., 133., 145., 143., 173., 185., 189., 203., 220., 234., 245.,\n",
       "        245., 246., 290., 290., 299., 287., 298., 297., 296., 346., 272.,\n",
       "        289., 256., 255., 262., 276., 252., 228., 224., 217., 173., 181.,\n",
       "        150., 147., 130., 122., 103., 100.,  97.,  73.,  66.,  61.,  62.,\n",
       "         58.,  37.,  26.,  23.,  21.,  16.,  12.,  11.,   3.,   5.,   4.,\n",
       "          3.,   1.,   3.,   2.,   0.,   0.,   2.,   0.,   1.,   1.,   0.,\n",
       "          1.]),\n",
       " array([-3.98357717, -3.90599585, -3.82841453, -3.75083322, -3.6732519 ,\n",
       "        -3.59567058, -3.51808926, -3.44050795, -3.36292663, -3.28534531,\n",
       "        -3.207764  , -3.13018268, -3.05260136, -2.97502004, -2.89743873,\n",
       "        -2.81985741, -2.74227609, -2.66469477, -2.58711346, -2.50953214,\n",
       "        -2.43195082, -2.3543695 , -2.27678819, -2.19920687, -2.12162555,\n",
       "        -2.04404424, -1.96646292, -1.8888816 , -1.81130028, -1.73371897,\n",
       "        -1.65613765, -1.57855633, -1.50097501, -1.4233937 , -1.34581238,\n",
       "        -1.26823106, -1.19064975, -1.11306843, -1.03548711, -0.95790579,\n",
       "        -0.88032448, -0.80274316, -0.72516184, -0.64758052, -0.56999921,\n",
       "        -0.49241789, -0.41483657, -0.33725526, -0.25967394, -0.18209262,\n",
       "        -0.1045113 , -0.02692999,  0.05065133,  0.12823265,  0.20581397,\n",
       "         0.28339528,  0.3609766 ,  0.43855792,  0.51613923,  0.59372055,\n",
       "         0.67130187,  0.74888319,  0.8264645 ,  0.90404582,  0.98162714,\n",
       "         1.05920846,  1.13678977,  1.21437109,  1.29195241,  1.36953373,\n",
       "         1.44711504,  1.52469636,  1.60227768,  1.67985899,  1.75744031,\n",
       "         1.83502163,  1.91260295,  1.99018426,  2.06776558,  2.1453469 ,\n",
       "         2.22292822,  2.30050953,  2.37809085,  2.45567217,  2.53325348,\n",
       "         2.6108348 ,  2.68841612,  2.76599744,  2.84357875,  2.92116007,\n",
       "         2.99874139,  3.07632271,  3.15390402,  3.23148534,  3.30906666,\n",
       "         3.38664797,  3.46422929,  3.54181061,  3.61939193,  3.69697324,\n",
       "         3.77455456]),\n",
       " <BarContainer object of 100 artists>)"
      ]
     },
     "execution_count": 119,
     "metadata": {},
     "output_type": "execute_result"
    },
    {
     "data": {
      "image/png": "[encoded data removed]",
      "text/plain": [
       "<Figure size 432x288 with 1 Axes>"
      ]
     },
     "metadata": {
      "needs_background": "light"
     },
     "output_type": "display_data"
    }
   ],
   "source": [
    "# np.histogram(xx, bins = 100)\n",
    "hist(xx, bins = 100)"
   ]
  },
  {
   "cell_type": "code",
   "execution_count": null,
   "metadata": {},
   "outputs": [],
   "source": []
  }
 ],
 "metadata": {
  "kernelspec": {
   "display_name": "Python 3",
   "language": "python",
   "name": "python3"
  },
  "language_info": {
   "codemirror_mode": {
    "name": "ipython",
    "version": 3
   },
   "file_extension": ".py",
   "mimetype": "text/x-python",
   "name": "python",
   "nbconvert_exporter": "python",
   "pygments_lexer": "ipython3",
   "version": "3.7.0b4"
  },
  "latex_envs": {
   "LaTeX_envs_menu_present": true,
   "autoclose": false,
   "autocomplete": true,
   "bibliofile": "biblio.bib",
   "cite_by": "apalike",
   "current_citInitial": 1,
   "eqLabelWithNumbers": true,
   "eqNumInitial": 1,
   "hotkeys": {
    "equation": "Ctrl-E",
    "itemize": "Ctrl-I"
   },
   "labels_anchors": false,
   "latex_user_defs": false,
   "report_style_numbering": false,
   "user_envs_cfg": false
  },
  "toc": {
   "base_numbering": 1,
   "nav_menu": {},
   "number_sections": true,
   "sideBar": true,
   "skip_h1_title": false,
   "title_cell": "Table of Contents",
   "title_sidebar": "Contents",
   "toc_cell": false,
   "toc_position": {},
   "toc_section_display": true,
   "toc_window_display": false
  }
 },
 "nbformat": 4,
 "nbformat_minor": 2
}
